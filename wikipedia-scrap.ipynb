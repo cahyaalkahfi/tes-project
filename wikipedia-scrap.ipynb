{
 "cells": [
  {
   "cell_type": "code",
   "execution_count": 156,
   "id": "0a27ca75-e1c2-4254-ad3e-b4c7cfc93f60",
   "metadata": {
    "execution": {
     "iopub.execute_input": "2022-09-13T23:37:50.766841Z",
     "iopub.status.busy": "2022-09-13T23:37:50.765840Z",
     "iopub.status.idle": "2022-09-13T23:37:50.770841Z",
     "shell.execute_reply": "2022-09-13T23:37:50.769511Z",
     "shell.execute_reply.started": "2022-09-13T23:37:50.766814Z"
    },
    "tags": []
   },
   "outputs": [],
   "source": [
    "from bs4 import BeautifulSoup as bs\n",
    "import pandas as pd\n",
    "import urllib.request as r"
   ]
  },
  {
   "cell_type": "code",
   "execution_count": 157,
   "id": "0cc1125b-0f60-4517-9dcb-7435c43e1465",
   "metadata": {
    "execution": {
     "iopub.execute_input": "2022-09-13T23:37:50.774750Z",
     "iopub.status.busy": "2022-09-13T23:37:50.773856Z",
     "iopub.status.idle": "2022-09-13T23:37:50.778954Z",
     "shell.execute_reply": "2022-09-13T23:37:50.777746Z",
     "shell.execute_reply.started": "2022-09-13T23:37:50.774726Z"
    },
    "tags": []
   },
   "outputs": [],
   "source": [
    "wikipedia_url = \"https://en.wikipedia.org/wiki/Main_Page\""
   ]
  },
  {
   "cell_type": "code",
   "execution_count": 158,
   "id": "10fc3a58-211f-42d3-b977-06a1ee5808b1",
   "metadata": {
    "execution": {
     "iopub.execute_input": "2022-09-13T23:37:50.780043Z",
     "iopub.status.busy": "2022-09-13T23:37:50.779844Z",
     "iopub.status.idle": "2022-09-13T23:37:50.786039Z",
     "shell.execute_reply": "2022-09-13T23:37:50.784402Z",
     "shell.execute_reply.started": "2022-09-13T23:37:50.780025Z"
    },
    "tags": []
   },
   "outputs": [],
   "source": [
    "def remove_tags(elem):\n",
    "    for data in elem(['b>a']):\n",
    "        # Remove tags\n",
    "        data.decompose()\n",
    "\n",
    "    # return data by retrieving the tag content\n",
    "    return ' '.join(elem.stripped_strings)[7:-2]"
   ]
  },
  {
   "cell_type": "code",
   "execution_count": 159,
   "id": "33f7fa30-d9bc-4cee-a83d-2345a7e17d96",
   "metadata": {
    "execution": {
     "iopub.execute_input": "2022-09-13T23:37:50.787808Z",
     "iopub.status.busy": "2022-09-13T23:37:50.787598Z",
     "iopub.status.idle": "2022-09-13T23:37:50.793464Z",
     "shell.execute_reply": "2022-09-13T23:37:50.792284Z",
     "shell.execute_reply.started": "2022-09-13T23:37:50.787790Z"
    },
    "tags": []
   },
   "outputs": [],
   "source": [
    "def wiki_otd(url):\n",
    "    page = r.urlopen(url)\n",
    "    soup = bs(page.read())\n",
    "    part_otd = soup.findChild('div', {'id': 'mp-otd'})\n",
    "\n",
    "    date = part_otd.findChild('p').findChild('b').findChild('a').text\n",
    "\n",
    "    list_otd = part_otd.find('ul').findChildren('li')\n",
    "    \n",
    "    event = {}\n",
    "\n",
    "    for idx, i in enumerate(list_otd):\n",
    "        year = i.findChild('a').text\n",
    "        item = remove_tags(i)\n",
    "\n",
    "        pic = None\n",
    "\n",
    "        if item.find('(model pictured)') != -1:\n",
    "            item = item.replace('(model pictured) ', '')\n",
    "            pic = 'https:' + part_otd.select_one('div div img')['src']\n",
    "\n",
    "        event[idx + 1] = {'year': year, 'item': item, 'pic': pic}\n",
    "\n",
    "    return {'date': date, 'event': event}\n"
   ]
  },
  {
   "cell_type": "code",
   "execution_count": 160,
   "id": "d9e61889-b985-45bd-9262-57c9cb2dcb31",
   "metadata": {
    "execution": {
     "iopub.execute_input": "2022-09-13T23:37:50.795047Z",
     "iopub.status.busy": "2022-09-13T23:37:50.794794Z",
     "iopub.status.idle": "2022-09-13T23:37:50.835869Z",
     "shell.execute_reply": "2022-09-13T23:37:50.835049Z",
     "shell.execute_reply.started": "2022-09-13T23:37:50.795025Z"
    },
    "tags": []
   },
   "outputs": [],
   "source": [
    "data = wiki_otd(wikipedia_url)"
   ]
  },
  {
   "cell_type": "code",
   "execution_count": 161,
   "id": "30928f79-4b47-47b8-86e0-3164c4849ec2",
   "metadata": {
    "execution": {
     "iopub.execute_input": "2022-09-13T23:37:50.837594Z",
     "iopub.status.busy": "2022-09-13T23:37:50.837371Z",
     "iopub.status.idle": "2022-09-13T23:37:50.850608Z",
     "shell.execute_reply": "2022-09-13T23:37:50.849702Z",
     "shell.execute_reply.started": "2022-09-13T23:37:50.837574Z"
    },
    "tags": []
   },
   "outputs": [
    {
     "data": {
      "text/html": [
       "<div>\n",
       "<style scoped>\n",
       "    .dataframe tbody tr th:only-of-type {\n",
       "        vertical-align: middle;\n",
       "    }\n",
       "\n",
       "    .dataframe tbody tr th {\n",
       "        vertical-align: top;\n",
       "    }\n",
       "\n",
       "    .dataframe thead th {\n",
       "        text-align: right;\n",
       "    }\n",
       "</style>\n",
       "<table border=\"1\" class=\"dataframe\">\n",
       "  <thead>\n",
       "    <tr style=\"text-align: right;\">\n",
       "      <th></th>\n",
       "      <th>date</th>\n",
       "      <th>year</th>\n",
       "      <th>item</th>\n",
       "      <th>pic</th>\n",
       "    </tr>\n",
       "  </thead>\n",
       "  <tbody>\n",
       "    <tr>\n",
       "      <th>1</th>\n",
       "      <td>September 13</td>\n",
       "      <td>1541</td>\n",
       "      <td>After three years of exile, French theologian ...</td>\n",
       "      <td>None</td>\n",
       "    </tr>\n",
       "    <tr>\n",
       "      <th>2</th>\n",
       "      <td>September 13</td>\n",
       "      <td>1759</td>\n",
       "      <td>French and Indian War : British forces won the...</td>\n",
       "      <td>None</td>\n",
       "    </tr>\n",
       "    <tr>\n",
       "      <th>3</th>\n",
       "      <td>September 13</td>\n",
       "      <td>1959</td>\n",
       "      <td>The Soviet spacecraft Luna 2 struck the Moon, ...</td>\n",
       "      <td>https://upload.wikimedia.org/wikipedia/commons...</td>\n",
       "    </tr>\n",
       "    <tr>\n",
       "      <th>4</th>\n",
       "      <td>September 13</td>\n",
       "      <td>1964</td>\n",
       "      <td>South Vietnamese generals Lâm Văn Phát and Dươ...</td>\n",
       "      <td>None</td>\n",
       "    </tr>\n",
       "  </tbody>\n",
       "</table>\n",
       "</div>"
      ],
      "text/plain": [
       "           date  year                                               item  \\\n",
       "1  September 13  1541  After three years of exile, French theologian ...   \n",
       "2  September 13  1759  French and Indian War : British forces won the...   \n",
       "3  September 13  1959  The Soviet spacecraft Luna 2 struck the Moon, ...   \n",
       "4  September 13  1964  South Vietnamese generals Lâm Văn Phát and Dươ...   \n",
       "\n",
       "                                                 pic  \n",
       "1                                               None  \n",
       "2                                               None  \n",
       "3  https://upload.wikimedia.org/wikipedia/commons...  \n",
       "4                                               None  "
      ]
     },
     "execution_count": 161,
     "metadata": {},
     "output_type": "execute_result"
    }
   ],
   "source": [
    "df = pd.DataFrame.from_dict(data['event'], orient=\"index\")\n",
    "\n",
    "df['date'] = data['date']\n",
    "\n",
    "df = df[['date', 'year', 'item', 'pic']]\n",
    "\n",
    "df"
   ]
  }
 ],
 "metadata": {
  "kernelspec": {
   "display_name": "Python 3 (ipykernel)",
   "language": "python",
   "name": "python3"
  },
  "language_info": {
   "codemirror_mode": {
    "name": "ipython",
    "version": 3
   },
   "file_extension": ".py",
   "mimetype": "text/x-python",
   "name": "python",
   "nbconvert_exporter": "python",
   "pygments_lexer": "ipython3",
   "version": "3.10.4"
  }
 },
 "nbformat": 4,
 "nbformat_minor": 5
}
